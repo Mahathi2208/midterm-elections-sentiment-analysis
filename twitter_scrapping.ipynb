{
 "cells": [
  {
   "cell_type": "code",
   "execution_count": null,
   "id": "23554042",
   "metadata": {},
   "outputs": [],
   "source": [
    "#VoteBlue2022\n",
    "#2022Midterms\n",
    "#Pennsylvania\n",
    "#PennsylvaniaSenate\n",
    "#PA2022\n",
    "#PAGov2022\n",
    "#PaSenate\n",
    "#PASenate\n",
    "#PASen\n",
    "#MidtermElections\n",
    "#papolitics"
   ]
  },
  {
   "cell_type": "code",
   "execution_count": 2,
   "id": "cb79c028",
   "metadata": {},
   "outputs": [],
   "source": [
    "# Thanks to https://dev.to/kcdchennai/python-decorator-to-measure-execution-time-54hk for this decorator code\n",
    "from functools import wraps\n",
    "def timeit(func):\n",
    "    @wraps(func)\n",
    "    def timeit_wrapper(*args, **kwargs):\n",
    "        start_time = time.perf_counter()\n",
    "        result = func(*args, **kwargs)\n",
    "        end_time = time.perf_counter()\n",
    "        total_time = end_time - start_time\n",
    "        print(f'Function {func.__name__} Took {total_time:.4f} seconds')\n",
    "        return result\n",
    "    return timeit_wrapper"
   ]
  },
  {
   "cell_type": "code",
   "execution_count": 23,
   "id": "6399550c",
   "metadata": {},
   "outputs": [],
   "source": [
    "##time\n",
    "import snscrape.modules.twitter as sntwitter\n",
    "import pandas as pd\n",
    "@timeit\n",
    "def get_tweets(search_list: list):\n",
    "    # Creating list to append tweet data to\n",
    "    tweets_list = []\n",
    "\n",
    "    # Using TwitterSearchScraper to scrape data and append tweets to list\n",
    "    for query in search_list:\n",
    "        i =0\n",
    "        for i,tweet in enumerate(sntwitter.TwitterSearchScraper(query).get_items()):\n",
    "            if i<=5000:\n",
    "                tweets_list.append([tweet.id, tweet.date, tweet.user.username, tweet.user.location, tweet.user.friendsCount,\n",
    "                                     tweet.user.followersCount,\n",
    "                                     tweet.user.favouritesCount, tweet.retweetCount, tweet.content, tweet.renderedContent ])\n",
    "                i = i+1\n",
    "            else:\n",
    "                break\n",
    "            \n",
    "        print(query)\n",
    "\n",
    "        # Creating a dataframe from the tweets list above\n",
    "    tweets_df = pd.DataFrame(tweets_list, columns=['id', 'created_at', 'username', 'location', 'following',\n",
    "                                                         'followers', 'favorite', 'retweetcount', 'text', 'text_v2'])\n",
    "    return tweets_df"
   ]
  },
  {
   "cell_type": "code",
   "execution_count": 24,
   "id": "2219cd10",
   "metadata": {},
   "outputs": [
    {
     "name": "stdout",
     "output_type": "stream",
     "text": [
      "PennsylvaniaSenate\n",
      "PA2022\n",
      "PAGov2022\n",
      "PaSenate\n",
      "PASenate\n",
      "PASen\n",
      "papolitics\n",
      "Pennsylvania\n",
      "Function get_tweets Took 795.0020 seconds\n",
      "CPU times: total: 13.2 s\n",
      "Wall time: 13min 15s\n"
     ]
    }
   ],
   "source": [
    "%%time\n",
    "search_list =  [ 'PennsylvaniaSenate',\n",
    "                 'PA2022',\n",
    "                 'PAGov2022',\n",
    "                 'PaSenate',\n",
    "                 'PASenate',\n",
    "                 'PASen',\n",
    "                 'papolitics',\n",
    "                 'Pennsylvania']\n",
    "tweets_df = get_tweets(search_list)\n",
    "tweets_df.to_csv('twitter_scrapped_data_v2.csv')"
   ]
  },
  {
   "cell_type": "code",
   "execution_count": 26,
   "id": "d58e125c",
   "metadata": {},
   "outputs": [
    {
     "data": {
      "text/plain": [
       "(22196, 10)"
      ]
     },
     "execution_count": 26,
     "metadata": {},
     "output_type": "execute_result"
    }
   ],
   "source": [
    "tweets_df.drop_duplicates().shape"
   ]
  },
  {
   "cell_type": "code",
   "execution_count": 27,
   "id": "ba5f058e",
   "metadata": {
    "scrolled": true
   },
   "outputs": [
    {
     "data": {
      "text/plain": [
       "((26831, 10), (22196, 10))"
      ]
     },
     "execution_count": 27,
     "metadata": {},
     "output_type": "execute_result"
    }
   ],
   "source": [
    "tweets_df.shape, tweets_df.drop_duplicates().shape"
   ]
  }
 ],
 "metadata": {
  "kernelspec": {
   "display_name": "Python 3 (ipykernel)",
   "language": "python",
   "name": "python3"
  },
  "language_info": {
   "codemirror_mode": {
    "name": "ipython",
    "version": 3
   },
   "file_extension": ".py",
   "mimetype": "text/x-python",
   "name": "python",
   "nbconvert_exporter": "python",
   "pygments_lexer": "ipython3",
   "version": "3.10.5"
  }
 },
 "nbformat": 4,
 "nbformat_minor": 5
}
