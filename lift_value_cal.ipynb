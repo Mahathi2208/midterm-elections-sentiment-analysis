{
 "cells": [
  {
   "cell_type": "code",
   "execution_count": 54,
   "id": "a613936f",
   "metadata": {},
   "outputs": [],
   "source": [
    "import pandas as pd\n",
    "import numpy as np\n",
    "import itertools\n",
    "import re\n",
    "from functools import partial"
   ]
  },
  {
   "cell_type": "code",
   "execution_count": 55,
   "id": "370912ee",
   "metadata": {},
   "outputs": [
    {
     "data": {
      "text/html": [
       "<div>\n",
       "<style scoped>\n",
       "    .dataframe tbody tr th:only-of-type {\n",
       "        vertical-align: middle;\n",
       "    }\n",
       "\n",
       "    .dataframe tbody tr th {\n",
       "        vertical-align: top;\n",
       "    }\n",
       "\n",
       "    .dataframe thead th {\n",
       "        text-align: right;\n",
       "    }\n",
       "</style>\n",
       "<table border=\"1\" class=\"dataframe\">\n",
       "  <thead>\n",
       "    <tr style=\"text-align: right;\">\n",
       "      <th></th>\n",
       "      <th>text</th>\n",
       "    </tr>\n",
       "  </thead>\n",
       "  <tbody>\n",
       "    <tr>\n",
       "      <th>0</th>\n",
       "      <td>Who you want to win in Pennsylvania? #Republic...</td>\n",
       "    </tr>\n",
       "    <tr>\n",
       "      <th>1</th>\n",
       "      <td>@verdad46988431 @EldaniperezOK @jorbrucce @Gus...</td>\n",
       "    </tr>\n",
       "    <tr>\n",
       "      <th>2</th>\n",
       "      <td>The county with the most votes that could very...</td>\n",
       "    </tr>\n",
       "    <tr>\n",
       "      <th>3</th>\n",
       "      <td>─── Preferiría que no. Disfruten solos y que p...</td>\n",
       "    </tr>\n",
       "    <tr>\n",
       "      <th>4</th>\n",
       "      <td>Over-spending now means tax increases later. #...</td>\n",
       "    </tr>\n",
       "    <tr>\n",
       "      <th>...</th>\n",
       "      <td>...</td>\n",
       "    </tr>\n",
       "    <tr>\n",
       "      <th>29995</th>\n",
       "      <td>@kann_2121 @JohnFetterman Who needs Social Med...</td>\n",
       "    </tr>\n",
       "    <tr>\n",
       "      <th>29996</th>\n",
       "      <td>@DrOz You are a grifter!!! #VoteFetterman</td>\n",
       "    </tr>\n",
       "    <tr>\n",
       "      <th>29997</th>\n",
       "      <td>@amyklobuchar YES #VoteRedToSaveAmerica2022</td>\n",
       "    </tr>\n",
       "    <tr>\n",
       "      <th>29998</th>\n",
       "      <td>Structural racism…\\n\\nThis comment you made is...</td>\n",
       "    </tr>\n",
       "    <tr>\n",
       "      <th>29999</th>\n",
       "      <td>@JohnFetterman But did he ever chase down an i...</td>\n",
       "    </tr>\n",
       "  </tbody>\n",
       "</table>\n",
       "<p>30000 rows × 1 columns</p>\n",
       "</div>"
      ],
      "text/plain": [
       "                                                    text\n",
       "0      Who you want to win in Pennsylvania? #Republic...\n",
       "1      @verdad46988431 @EldaniperezOK @jorbrucce @Gus...\n",
       "2      The county with the most votes that could very...\n",
       "3      ─── Preferiría que no. Disfruten solos y que p...\n",
       "4      Over-spending now means tax increases later. #...\n",
       "...                                                  ...\n",
       "29995  @kann_2121 @JohnFetterman Who needs Social Med...\n",
       "29996          @DrOz You are a grifter!!! #VoteFetterman\n",
       "29997        @amyklobuchar YES #VoteRedToSaveAmerica2022\n",
       "29998  Structural racism…\\n\\nThis comment you made is...\n",
       "29999  @JohnFetterman But did he ever chase down an i...\n",
       "\n",
       "[30000 rows x 1 columns]"
      ]
     },
     "execution_count": 55,
     "metadata": {},
     "output_type": "execute_result"
    }
   ],
   "source": [
    "comments = pd.read_csv('comments.csv',  lineterminator='\\n').drop('Unnamed: 0', axis=1)\n",
    "# word_cnt = pd.read_csv('word_freq.csv').drop('Unnamed: 0', axis=1)\n",
    "# carbrands_models = pd.read_csv('carmodels_brands.csv')\n",
    "comments"
   ]
  },
  {
   "cell_type": "code",
   "execution_count": 56,
   "id": "7af0a89b",
   "metadata": {},
   "outputs": [],
   "source": [
    "# finding all the models for a car brand\n",
    "# carbrands_models['Brand'] = carbrands_models['Brand'].apply(lambda x: re.compile(r'[,.]').sub('', x))\n",
    "# carbrands_models['Brand'] = carbrands_models['Brand'].apply(lambda x: x.replace('hyundai', 'kia') \\\n",
    "#                                                                       .replace('mercedes-benz', 'benz') \\\n",
    "#                                                                       .replace('mercedes benz', 'benz') \\\n",
    "#                                                                       .replace('hyndai kia', 'kia') \\\n",
    "#                                                                       .replace('mercedes', 'benz') \\\n",
    "#                                                                       .replace('toyata', 'toyota') \\\n",
    "#                                                                       .replace('volkwagen', 'volkswagen'))\n",
    "# #getting all the unique brands \n",
    "# car_brands = list(set(carbrands_models['Brand']))\n",
    "# car_brands = [re.compile(r'[,.]').sub('', i) for i in car_brands]\n",
    "# print(\"no of brands\", len(car_brands))\n",
    "# wordfreq_dict = dict(word_cnt[['word', 'frequency']].values)\n",
    "# missing_brands = set(car_brands) - set(wordfreq_dict.keys())\n",
    "# print(\"missing brands:\", missing_brands)"
   ]
  },
  {
   "cell_type": "code",
   "execution_count": 57,
   "id": "f004f43d",
   "metadata": {},
   "outputs": [],
   "source": [
    "# %%time\n",
    "# # handling the replaced values by adding them as a model for a brand\n",
    "# handle_replace_dict = {'kia': ['hyundai', 'hyundai kia'], 'benz': ['mercedes-benz', 'mercedes benz', 'mercedes'],\n",
    "#                        'toyota' : ['toyata'], 'volkswagen': ['volkwagen']}\n",
    "# brand_models_map = carbrands_models.groupby(['Brand'])['Model'].unique().reset_index()\n",
    "# brand_models_map['Model'] = brand_models_map.apply(lambda row: list(set(list(row.Model) + list(handle_replace_dict[str(row.Brand)])))\n",
    "#                                                                if row.Brand in handle_replace_dict else list(set(row.Model)), axis=1)\n",
    "\n",
    "# brand_models_map = brand_models_map.set_index('Brand').to_dict()['Model']\n",
    "# brand_models_map"
   ]
  },
  {
   "cell_type": "code",
   "execution_count": 58,
   "id": "5cc2bfd3",
   "metadata": {},
   "outputs": [],
   "source": [
    "# for brand in missing_brands:\n",
    "#     try:       \n",
    "#         for i in brand.split(' '):\n",
    "#             print([word for word in list(wordfreq_dict.keys()) if i in str(word)])\n",
    "#         for i in brand.split('-'):\n",
    "#             print([word for word in list(wordfreq_dict.keys()) if i in str(word)])\n",
    "#     except Exception as e:\n",
    "#         print(brand)\n",
    "# # considering hyndai kia as kia, mercedes-benz as benz , mercedes benz as benz,toyata as toyota\n",
    "# mis_brand_handle = {'hyndai kia': 'kia', 'mercedes-benz': 'benz', 'mercedes benz': 'benz', 'toyata': 'toyota'}\n",
    "# car_brands = [mis_brand_handle[b] if b in list(mis_brand_handle.keys()) else b for b in car_brands]\n",
    "# mis_brand_handle_t = {'kia': ['hyndai kia'], 'benz': ['mercedes-benz', 'mercedes benz' ], 'toyota': ['toyota']}"
   ]
  },
  {
   "cell_type": "code",
   "execution_count": 59,
   "id": "bda0807c",
   "metadata": {},
   "outputs": [],
   "source": [
    "Fetterman_list = ['johnfetterman', 'fetterman', 'fettermanforsenate', 'votefetterman', 'fettermanisthebetterman','fettermanforpa', 'giselefetterman','levifetterman','fettermanlt',\n",
    "                'fetterwoman','fetterman2022','fettermania','fettermans', 'fettermandailymeme','fetter','votejohnfetterman','fettermen' ]\n",
    "Oz_list = ['mehmetoz','mehmet', 'mehmetozthepuppymurderer', 'mehmetfromjersey', 'defundmehmetoz','snakeoilmehmetöz', 'mehmetozkillspuppies',\n",
    "            'oz','voteoz','drozkillspuppies','droz','ooze','rejectoz','dogkilleroz','nooz','sendozhome','stopoz','ozisafraud','notooz', 'noozinpa', 'noonoz', 'voz',\n",
    "            'votedroz', 'neveroz', 'ozfornj', 'saynotooz', 'ozzie', 'ozzy', 'realdoctorsagainstoz', 'ozforsenate', 'carpetbaggeroz', 'drozhitlercar', 'ozkillspuppies',\n",
    "            'drozisafraud', 'ozisaquack']"
   ]
  },
  {
   "cell_type": "code",
   "execution_count": 60,
   "id": "b967fad5",
   "metadata": {},
   "outputs": [
    {
     "data": {
      "text/plain": [
       "{'Fetterman': ['johnfetterman',\n",
       "  'fetterman',\n",
       "  'fettermanforsenate',\n",
       "  'votefetterman',\n",
       "  'fettermanisthebetterman',\n",
       "  'fettermanforpa',\n",
       "  'giselefetterman',\n",
       "  'levifetterman',\n",
       "  'fettermanlt',\n",
       "  'fetterwoman',\n",
       "  'fetterman2022',\n",
       "  'fettermania',\n",
       "  'fettermans',\n",
       "  'fettermandailymeme',\n",
       "  'fetter',\n",
       "  'votejohnfetterman',\n",
       "  'fettermen'],\n",
       " 'Oz': ['mehmetoz',\n",
       "  'mehmet',\n",
       "  'mehmetozthepuppymurderer',\n",
       "  'mehmetfromjersey',\n",
       "  'defundmehmetoz',\n",
       "  'snakeoilmehmetöz',\n",
       "  'mehmetozkillspuppies',\n",
       "  'oz',\n",
       "  'voteoz',\n",
       "  'drozkillspuppies',\n",
       "  'droz',\n",
       "  'ooze',\n",
       "  'rejectoz',\n",
       "  'dogkilleroz',\n",
       "  'nooz',\n",
       "  'sendozhome',\n",
       "  'stopoz',\n",
       "  'ozisafraud',\n",
       "  'notooz',\n",
       "  'noozinpa',\n",
       "  'noonoz',\n",
       "  'voz',\n",
       "  'votedroz',\n",
       "  'neveroz',\n",
       "  'ozfornj',\n",
       "  'saynotooz',\n",
       "  'ozzie',\n",
       "  'ozzy',\n",
       "  'realdoctorsagainstoz',\n",
       "  'ozforsenate',\n",
       "  'carpetbaggeroz',\n",
       "  'drozhitlercar',\n",
       "  'ozkillspuppies',\n",
       "  'drozisafraud',\n",
       "  'ozisaquack']}"
      ]
     },
     "execution_count": 60,
     "metadata": {},
     "output_type": "execute_result"
    }
   ],
   "source": [
    "candidate_name_map = {\"Fetterman\": Fetterman_list, \"Oz\": Oz_list} \n",
    "\n",
    "# for word in Fetterman_list:\n",
    "#     candidate_name_map[word] = \"Fetterman\"\n",
    "# for word in Oz_list:\n",
    "#     candidate_name_map[word] = \"Oz\"\n",
    "candidate_name_map"
   ]
  },
  {
   "cell_type": "code",
   "execution_count": 61,
   "id": "0947b1da",
   "metadata": {},
   "outputs": [],
   "source": [
    "def get_lift_value(a_brand, b_brand, comments, candidate_name_map, attributes_flag=True):\n",
    "    \"\"\"\n",
    "    returns the lift value for given two brands\n",
    "    \"\"\"\n",
    "    n_a_b = 0\n",
    "    n_a =0\n",
    "    n_b =0\n",
    "    i =0\n",
    "    for comment in comments:\n",
    "        n_a_tmp =0\n",
    "        n_b_tmp =0\n",
    "        if type(comment) == float:\n",
    "            i = i+1\n",
    "            continue\n",
    "        else:\n",
    "            word_set = [re.sub(r'[^\\w]', ' ', word).strip().lower() for word in comment.split()]\n",
    "            final_word_set = word_set.copy()\n",
    "            final_word_set = [list(final_word_set) + [re.sub(r'[^\\w]', ' ', w).strip().lower()\n",
    "                                                      for w in word.split()] for word in word_set if \" \" in word]\n",
    "            final_word_set = set(list(itertools.chain.from_iterable(final_word_set)))\n",
    "            if not attributes_flag:\n",
    "                if set(final_word_set).intersection(set([a_brand] + candidate_name_map[a_brand])):\n",
    "                    n_a_tmp+=1\n",
    "                if set(final_word_set).intersection(set([b_brand] + candidate_name_map[b_brand])):\n",
    "                    n_b_tmp+=1\n",
    "            else:\n",
    "                if set(final_word_set).intersection(set([a_brand] + candidate_name_map[a_brand])):\n",
    "                    n_a_tmp+=1\n",
    "                if set(final_word_set).intersection(set([b_brand])):\n",
    "                    n_b_tmp+=1\n",
    "        if n_a_tmp>0:\n",
    "            n_a = n_a + 1\n",
    "        if n_b_tmp>0:\n",
    "            n_b = n_b +1\n",
    "        if n_a_tmp >0 and n_b_tmp > 0:\n",
    "            n_a_b = n_a_b + 1\n",
    "    if n_a > 0 and n_b >0:\n",
    "        return  (len(comments) - i) * (n_a_b / (n_a * n_b))\n",
    "    else:\n",
    "        return np.nan"
   ]
  },
  {
   "cell_type": "code",
   "execution_count": 62,
   "id": "171b9822",
   "metadata": {},
   "outputs": [],
   "source": [
    "# fixing the arguments comemnts and mis_brand_handle_t for function get_lift_value\n",
    "# comments = comments['text']\n",
    "get_lift_value_p = partial(get_lift_value, comments=comments, candidate_name_map = candidate_name_map)"
   ]
  },
  {
   "cell_type": "code",
   "execution_count": 63,
   "id": "0b650567",
   "metadata": {},
   "outputs": [],
   "source": [
    "# car_brands_org = car_brands.copy()\n",
    "# car_brands = car_brands_org.copy()"
   ]
  },
  {
   "cell_type": "code",
   "execution_count": 64,
   "id": "a157b64f",
   "metadata": {},
   "outputs": [],
   "source": [
    "# candidate_name_map = {'Fetterman': [key for key, val in candidate_name_map.items() if val =='Fetterman'],\n",
    "#                        'Oz': [key for key, val in candidate_name_map.items() if val =='Oz']}\n",
    "# candidate_name_map"
   ]
  },
  {
   "cell_type": "code",
   "execution_count": 65,
   "id": "04115e78",
   "metadata": {
    "scrolled": true
   },
   "outputs": [
    {
     "name": "stdout",
     "output_type": "stream",
     "text": [
      "CPU times: user 111 µs, sys: 1e+03 ns, total: 112 µs\n",
      "Wall time: 116 µs\n"
     ]
    }
   ],
   "source": [
    "%%time\n",
    "lift_values = []\n",
    "candidates_list = [\"Fetterman\", \"Oz\"]\n",
    "issue_list = [\"health\", \"abortion\",\"education\",\"inflation\"]\n",
    "for i_1, brand_1 in dict(list(enumerate(candidates_list))).items():\n",
    "    lift_value_tmp = []\n",
    "    for i_2, brand_2 in dict(list(enumerate(issue_list))).items():\n",
    "        if i_2 == i_1:\n",
    "            lift_value_tmp.append(1)\n",
    "        elif i_2 < i_1:\n",
    "            lift_value_tmp.append(lift_values[i_2][i_1])\n",
    "        else:\n",
    "            lift_value_tmp.append(get_lift_value_p(brand_1, brand_2))\n",
    "    lift_values.append(lift_value_tmp)  "
   ]
  },
  {
   "cell_type": "code",
   "execution_count": 66,
   "id": "0fb38ce0",
   "metadata": {},
   "outputs": [
    {
     "data": {
      "text/html": [
       "<div>\n",
       "<style scoped>\n",
       "    .dataframe tbody tr th:only-of-type {\n",
       "        vertical-align: middle;\n",
       "    }\n",
       "\n",
       "    .dataframe tbody tr th {\n",
       "        vertical-align: top;\n",
       "    }\n",
       "\n",
       "    .dataframe thead th {\n",
       "        text-align: right;\n",
       "    }\n",
       "</style>\n",
       "<table border=\"1\" class=\"dataframe\">\n",
       "  <thead>\n",
       "    <tr style=\"text-align: right;\">\n",
       "      <th></th>\n",
       "      <th>health</th>\n",
       "      <th>abortion</th>\n",
       "      <th>education</th>\n",
       "      <th>inflation</th>\n",
       "    </tr>\n",
       "  </thead>\n",
       "  <tbody>\n",
       "    <tr>\n",
       "      <th>Fetterman</th>\n",
       "      <td>1.0</td>\n",
       "      <td>NaN</td>\n",
       "      <td>NaN</td>\n",
       "      <td>NaN</td>\n",
       "    </tr>\n",
       "    <tr>\n",
       "      <th>Oz</th>\n",
       "      <td>NaN</td>\n",
       "      <td>1.0</td>\n",
       "      <td>NaN</td>\n",
       "      <td>NaN</td>\n",
       "    </tr>\n",
       "  </tbody>\n",
       "</table>\n",
       "</div>"
      ],
      "text/plain": [
       "           health  abortion  education  inflation\n",
       "Fetterman     1.0       NaN        NaN        NaN\n",
       "Oz            NaN       1.0        NaN        NaN"
      ]
     },
     "execution_count": 66,
     "metadata": {},
     "output_type": "execute_result"
    }
   ],
   "source": [
    "lift_values = pd.DataFrame(lift_values, index=candidates_list, columns=issue_list)\n",
    "# lift_values.to_csv('lift_values.csv')\n",
    "lift_values"
   ]
  },
  {
   "cell_type": "code",
   "execution_count": null,
   "id": "58f22452",
   "metadata": {},
   "outputs": [],
   "source": []
  }
 ],
 "metadata": {
  "kernelspec": {
   "display_name": "Python 3.9.1 64-bit",
   "language": "python",
   "name": "python3"
  },
  "language_info": {
   "codemirror_mode": {
    "name": "ipython",
    "version": 3
   },
   "file_extension": ".py",
   "mimetype": "text/x-python",
   "name": "python",
   "nbconvert_exporter": "python",
   "pygments_lexer": "ipython3",
   "version": "3.9.1"
  },
  "vscode": {
   "interpreter": {
    "hash": "aee8b7b246df8f9039afb4144a1f6fd8d2ca17a180786b69acc140d282b71a49"
   }
  }
 },
 "nbformat": 4,
 "nbformat_minor": 5
}
