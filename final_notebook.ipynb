{
 "cells": [
  {
   "cell_type": "code",
   "execution_count": 27,
   "id": "a613936f",
   "metadata": {},
   "outputs": [],
   "source": [
    "import pandas as pd\n",
    "import numpy as np\n",
    "import itertools\n",
    "import re\n",
    "import nltk\n",
    "from functools import partial\n",
    "from sklearn.manifold import MDS\n",
    "from matplotlib import pyplot as plt"
   ]
  },
  {
   "cell_type": "code",
   "execution_count": 28,
   "id": "58b99e4f",
   "metadata": {},
   "outputs": [
    {
     "data": {
      "text/plain": [
       "'Who you want to win in Pennsylvania? #Republicans #PennsylvaniaSenate #PrimaryDay'"
      ]
     },
     "execution_count": 28,
     "metadata": {},
     "output_type": "execute_result"
    }
   ],
   "source": [
    "comments = pd.read_csv('twitter_scrapped_final.csv',lineterminator='\\n').drop(['Unnamed: 0'], axis=1).drop_duplicates(['text'])['text'].values\n",
    "comments[0]"
   ]
  },
  {
   "cell_type": "code",
   "execution_count": 29,
   "id": "bda0807c",
   "metadata": {},
   "outputs": [],
   "source": [
    "Fetterman_list = ['johnfetterman', 'fetterman', 'fettermanforsenate', 'votefetterman', 'fettermanisthebetterman','fettermanforpa', 'giselefetterman','levifetterman','fettermanlt',\n",
    "                'fetterwoman','fetterman2022','fettermania','fettermans', 'fettermandailymeme','fetter','votejohnfetterman','fettermen' ]\n",
    "Oz_list = ['mehmetoz','mehmet', 'mehmetozthepuppymurderer', 'mehmetfromjersey', 'defundmehmetoz','snakeoilmehmetöz', 'mehmetozkillspuppies',\n",
    "            'oz','voteoz','drozkillspuppies','droz','ooze','rejectoz','dogkilleroz','nooz','sendozhome','stopoz','ozisafraud','notooz', 'noozinpa', 'noonoz', 'voz',\n",
    "            'votedroz', 'neveroz', 'ozfornj', 'saynotooz', 'ozzie', 'ozzy', 'realdoctorsagainstoz', 'ozforsenate', 'carpetbaggeroz', 'drozhitlercar', 'ozkillspuppies',\n",
    "            'drozisafraud', 'ozisaquack', 'Dr. Oz', 'Dr Oz']"
   ]
  },
  {
   "cell_type": "code",
   "execution_count": 30,
   "id": "b967fad5",
   "metadata": {},
   "outputs": [],
   "source": [
    "candidate_name_map = {\"fetterman\": Fetterman_list, \"oz\": Oz_list} \n",
    "\n",
    "# for word in Fetterman_list:\n",
    "#     candidate_name_map[word] = \"Fetterman\"\n",
    "# for word in Oz_list:\n",
    "#     candidate_name_map[word] = \"Oz\"\n",
    "# candidate_name_map"
   ]
  },
  {
   "cell_type": "code",
   "execution_count": 31,
   "id": "6b1a6635",
   "metadata": {},
   "outputs": [
    {
     "name": "stdout",
     "output_type": "stream",
     "text": [
      "Who you want to win in Pennsylvania? #Republicans #PennsylvaniaSenate #PrimaryDay\n"
     ]
    }
   ],
   "source": [
    "comment = comments[0]\n",
    "print(comment)"
   ]
  },
  {
   "cell_type": "code",
   "execution_count": 37,
   "id": "0947b1da",
   "metadata": {},
   "outputs": [],
   "source": [
    "def get_lift_value(a_brand, b_brand, comments, candidate_name_map, attributes_flag=True):\n",
    "    \"\"\"\n",
    "    returns the lift value for given two brands\n",
    "    \"\"\"\n",
    "    n_a_b = 0\n",
    "    n_a =0\n",
    "    n_b =0\n",
    "    i =0\n",
    "    dummy = 0\n",
    "    for comment in comments:\n",
    "        n_a_tmp =0\n",
    "        n_b_tmp =0\n",
    "        if type(comment) == float:\n",
    "            i = i+1\n",
    "            continue\n",
    "        else:\n",
    "            if a_brand in comment.lower():\n",
    "                n_a_tmp+=1\n",
    "            if b_brand in comment.lower():\n",
    "                n_b_tmp+=1\n",
    "            word_set = [re.sub(r'[^\\w]', ' ', word).strip().lower() for word in comment.split()]\n",
    "            final_word_set = word_set.copy()\n",
    "            final_word_set = [[re.sub(r'[^\\w]', ' ', w).strip().lower()\n",
    "                                                      for w in word.split()] for word in word_set if \" \" in word]\n",
    "            final_word_set = list(set(list(itertools.chain.from_iterable(final_word_set))))\n",
    "            final_word_set = list(set(word_set + final_word_set))\n",
    "            if a_brand in candidate_name_map.keys():\n",
    "                if set(final_word_set).intersection(set([a_brand] + candidate_name_map[a_brand])):\n",
    "                    n_a_tmp+=1\n",
    "            if set(final_word_set).intersection(set([a_brand])):\n",
    "                n_a_tmp+=1\n",
    "            if sum([1 for w in final_word_set if a_brand in w]):\n",
    "                n_a_tmp+=1\n",
    "            if b_brand in candidate_name_map.keys():\n",
    "                if set(final_word_set).intersection(set([b_brand] + candidate_name_map[b_brand])):\n",
    "                    n_b_tmp+=1\n",
    "            if set(final_word_set).intersection(set([b_brand])):\n",
    "                n_b_tmp+=1\n",
    "            if sum([1 for w in final_word_set if b_brand in w]):\n",
    "                n_b_tmp+=1                    \n",
    "        if n_a_tmp>0:\n",
    "            n_a = n_a + 1\n",
    "        if n_b_tmp>0:\n",
    "            n_b = n_b +1\n",
    "        if n_a_tmp >0 and n_b_tmp > 0:\n",
    "            n_a_b = n_a_b + 1\n",
    "#     print(a_brand, b_brand, n_a, n_b, n_a_b)\n",
    "    if n_a > 0 and n_b >0:\n",
    "        return  (len(comments) - i) * (n_a_b / (n_a * n_b))\n",
    "    else:\n",
    "        return np.nan"
   ]
  },
  {
   "cell_type": "code",
   "execution_count": 38,
   "id": "171b9822",
   "metadata": {},
   "outputs": [],
   "source": [
    "# fixing the arguments comemnts and mis_brand_handle_t for function get_lift_value\n",
    "get_lift_value_p = partial(get_lift_value, comments=comments, candidate_name_map = candidate_name_map)"
   ]
  },
  {
   "cell_type": "code",
   "execution_count": 39,
   "id": "44e5b90d",
   "metadata": {
    "scrolled": false
   },
   "outputs": [
    {
     "name": "stdout",
     "output_type": "stream",
     "text": [
      "CPU times: total: 53.3 s\n",
      "Wall time: 58.4 s\n"
     ]
    }
   ],
   "source": [
    "%%time\n",
    "lift_values = []\n",
    "candidates_list = [\"fetterman\", \"oz\", \"health\", \"abortion\",\"gun\", \"security\", \"fraud\", \"crime\"]\n",
    "issue_list = [\"fetterman\", \"oz\", \"health\", \"abortion\",\"gun\", \"security\", \"fraud\", \"crime\"]\n",
    "# \"Fetterman\", \"Oz\", \n",
    "co_mentions_dict = {}\n",
    "issues_lift_values = []\n",
    "for cand in candidates_list:\n",
    "    lift_value_tmp = []\n",
    "    for iss in issue_list:\n",
    "        lift= get_lift_value_p(cand, iss)\n",
    "        lift_value_tmp.append(lift)\n",
    "    issues_lift_values.append(lift_value_tmp)\n",
    "issues_lift_values = pd.DataFrame(issues_lift_values, columns=issue_list, index=candidates_list)"
   ]
  },
  {
   "cell_type": "code",
   "execution_count": 40,
   "id": "45a56b56",
   "metadata": {},
   "outputs": [
    {
     "data": {
      "text/html": [
       "<div>\n",
       "<style scoped>\n",
       "    .dataframe tbody tr th:only-of-type {\n",
       "        vertical-align: middle;\n",
       "    }\n",
       "\n",
       "    .dataframe tbody tr th {\n",
       "        vertical-align: top;\n",
       "    }\n",
       "\n",
       "    .dataframe thead th {\n",
       "        text-align: right;\n",
       "    }\n",
       "</style>\n",
       "<table border=\"1\" class=\"dataframe\">\n",
       "  <thead>\n",
       "    <tr style=\"text-align: right;\">\n",
       "      <th></th>\n",
       "      <th>fetterman</th>\n",
       "      <th>oz</th>\n",
       "      <th>health</th>\n",
       "      <th>abortion</th>\n",
       "      <th>gun</th>\n",
       "      <th>security</th>\n",
       "      <th>fraud</th>\n",
       "      <th>crime</th>\n",
       "    </tr>\n",
       "  </thead>\n",
       "  <tbody>\n",
       "    <tr>\n",
       "      <th>fetterman</th>\n",
       "      <td>3.242206</td>\n",
       "      <td>1.635434</td>\n",
       "      <td>1.124313</td>\n",
       "      <td>0.949865</td>\n",
       "      <td>1.347297</td>\n",
       "      <td>1.374180</td>\n",
       "      <td>1.809057</td>\n",
       "      <td>1.298366</td>\n",
       "    </tr>\n",
       "    <tr>\n",
       "      <th>oz</th>\n",
       "      <td>1.635434</td>\n",
       "      <td>4.759057</td>\n",
       "      <td>1.202557</td>\n",
       "      <td>1.059634</td>\n",
       "      <td>0.714496</td>\n",
       "      <td>1.166127</td>\n",
       "      <td>2.689902</td>\n",
       "      <td>1.132590</td>\n",
       "    </tr>\n",
       "    <tr>\n",
       "      <th>health</th>\n",
       "      <td>1.124313</td>\n",
       "      <td>1.202557</td>\n",
       "      <td>73.803763</td>\n",
       "      <td>9.225470</td>\n",
       "      <td>1.187192</td>\n",
       "      <td>1.955067</td>\n",
       "      <td>1.871835</td>\n",
       "      <td>0.675549</td>\n",
       "    </tr>\n",
       "    <tr>\n",
       "      <th>abortion</th>\n",
       "      <td>0.949865</td>\n",
       "      <td>1.059634</td>\n",
       "      <td>9.225470</td>\n",
       "      <td>107.246094</td>\n",
       "      <td>1.725138</td>\n",
       "      <td>6.392151</td>\n",
       "      <td>0.777146</td>\n",
       "      <td>2.454144</td>\n",
       "    </tr>\n",
       "    <tr>\n",
       "      <th>gun</th>\n",
       "      <td>1.347297</td>\n",
       "      <td>0.714496</td>\n",
       "      <td>1.187192</td>\n",
       "      <td>1.725138</td>\n",
       "      <td>73.605898</td>\n",
       "      <td>0.487456</td>\n",
       "      <td>0.533376</td>\n",
       "      <td>2.358084</td>\n",
       "    </tr>\n",
       "    <tr>\n",
       "      <th>security</th>\n",
       "      <td>1.374180</td>\n",
       "      <td>1.166127</td>\n",
       "      <td>1.955067</td>\n",
       "      <td>6.392151</td>\n",
       "      <td>0.487456</td>\n",
       "      <td>181.821192</td>\n",
       "      <td>2.635090</td>\n",
       "      <td>2.080334</td>\n",
       "    </tr>\n",
       "    <tr>\n",
       "      <th>fraud</th>\n",
       "      <td>1.809057</td>\n",
       "      <td>2.689902</td>\n",
       "      <td>1.871835</td>\n",
       "      <td>0.777146</td>\n",
       "      <td>0.533376</td>\n",
       "      <td>2.635090</td>\n",
       "      <td>99.474638</td>\n",
       "      <td>0.682892</td>\n",
       "    </tr>\n",
       "    <tr>\n",
       "      <th>crime</th>\n",
       "      <td>1.298366</td>\n",
       "      <td>1.132590</td>\n",
       "      <td>0.675549</td>\n",
       "      <td>2.454144</td>\n",
       "      <td>2.358084</td>\n",
       "      <td>2.080334</td>\n",
       "      <td>0.682892</td>\n",
       "      <td>62.826087</td>\n",
       "    </tr>\n",
       "  </tbody>\n",
       "</table>\n",
       "</div>"
      ],
      "text/plain": [
       "           fetterman        oz     health    abortion        gun    security  \\\n",
       "fetterman   3.242206  1.635434   1.124313    0.949865   1.347297    1.374180   \n",
       "oz          1.635434  4.759057   1.202557    1.059634   0.714496    1.166127   \n",
       "health      1.124313  1.202557  73.803763    9.225470   1.187192    1.955067   \n",
       "abortion    0.949865  1.059634   9.225470  107.246094   1.725138    6.392151   \n",
       "gun         1.347297  0.714496   1.187192    1.725138  73.605898    0.487456   \n",
       "security    1.374180  1.166127   1.955067    6.392151   0.487456  181.821192   \n",
       "fraud       1.809057  2.689902   1.871835    0.777146   0.533376    2.635090   \n",
       "crime       1.298366  1.132590   0.675549    2.454144   2.358084    2.080334   \n",
       "\n",
       "               fraud      crime  \n",
       "fetterman   1.809057   1.298366  \n",
       "oz          2.689902   1.132590  \n",
       "health      1.871835   0.675549  \n",
       "abortion    0.777146   2.454144  \n",
       "gun         0.533376   2.358084  \n",
       "security    2.635090   2.080334  \n",
       "fraud      99.474638   0.682892  \n",
       "crime       0.682892  62.826087  "
      ]
     },
     "execution_count": 40,
     "metadata": {},
     "output_type": "execute_result"
    }
   ],
   "source": [
    "issues_lift_values\n",
    "# .to_csv('issue_lift_values.csv')"
   ]
  },
  {
   "cell_type": "code",
   "execution_count": 41,
   "id": "a4e237d7",
   "metadata": {},
   "outputs": [
    {
     "data": {
      "text/html": [
       "<div>\n",
       "<style scoped>\n",
       "    .dataframe tbody tr th:only-of-type {\n",
       "        vertical-align: middle;\n",
       "    }\n",
       "\n",
       "    .dataframe tbody tr th {\n",
       "        vertical-align: top;\n",
       "    }\n",
       "\n",
       "    .dataframe thead th {\n",
       "        text-align: right;\n",
       "    }\n",
       "</style>\n",
       "<table border=\"1\" class=\"dataframe\">\n",
       "  <thead>\n",
       "    <tr style=\"text-align: right;\">\n",
       "      <th></th>\n",
       "      <th>fetterman</th>\n",
       "      <th>oz</th>\n",
       "      <th>health</th>\n",
       "      <th>abortion</th>\n",
       "      <th>gun</th>\n",
       "      <th>security</th>\n",
       "      <th>fraud</th>\n",
       "      <th>crime</th>\n",
       "    </tr>\n",
       "  </thead>\n",
       "  <tbody>\n",
       "    <tr>\n",
       "      <th>fetterman</th>\n",
       "      <td>1.000000</td>\n",
       "      <td>1.635434</td>\n",
       "      <td>1.124313</td>\n",
       "      <td>0.949865</td>\n",
       "      <td>1.347297</td>\n",
       "      <td>1.374180</td>\n",
       "      <td>1.809057</td>\n",
       "      <td>1.298366</td>\n",
       "    </tr>\n",
       "    <tr>\n",
       "      <th>oz</th>\n",
       "      <td>1.635434</td>\n",
       "      <td>1.000000</td>\n",
       "      <td>1.202557</td>\n",
       "      <td>1.059634</td>\n",
       "      <td>0.714496</td>\n",
       "      <td>1.166127</td>\n",
       "      <td>2.689902</td>\n",
       "      <td>1.132590</td>\n",
       "    </tr>\n",
       "    <tr>\n",
       "      <th>health</th>\n",
       "      <td>1.124313</td>\n",
       "      <td>1.202557</td>\n",
       "      <td>1.000000</td>\n",
       "      <td>9.225470</td>\n",
       "      <td>1.187192</td>\n",
       "      <td>1.955067</td>\n",
       "      <td>1.871835</td>\n",
       "      <td>0.675549</td>\n",
       "    </tr>\n",
       "    <tr>\n",
       "      <th>abortion</th>\n",
       "      <td>0.949865</td>\n",
       "      <td>1.059634</td>\n",
       "      <td>9.225470</td>\n",
       "      <td>1.000000</td>\n",
       "      <td>1.725138</td>\n",
       "      <td>6.392151</td>\n",
       "      <td>0.777146</td>\n",
       "      <td>2.454144</td>\n",
       "    </tr>\n",
       "    <tr>\n",
       "      <th>gun</th>\n",
       "      <td>1.347297</td>\n",
       "      <td>0.714496</td>\n",
       "      <td>1.187192</td>\n",
       "      <td>1.725138</td>\n",
       "      <td>1.000000</td>\n",
       "      <td>0.487456</td>\n",
       "      <td>0.533376</td>\n",
       "      <td>2.358084</td>\n",
       "    </tr>\n",
       "    <tr>\n",
       "      <th>security</th>\n",
       "      <td>1.374180</td>\n",
       "      <td>1.166127</td>\n",
       "      <td>1.955067</td>\n",
       "      <td>6.392151</td>\n",
       "      <td>0.487456</td>\n",
       "      <td>1.000000</td>\n",
       "      <td>2.635090</td>\n",
       "      <td>2.080334</td>\n",
       "    </tr>\n",
       "    <tr>\n",
       "      <th>fraud</th>\n",
       "      <td>1.809057</td>\n",
       "      <td>2.689902</td>\n",
       "      <td>1.871835</td>\n",
       "      <td>0.777146</td>\n",
       "      <td>0.533376</td>\n",
       "      <td>2.635090</td>\n",
       "      <td>1.000000</td>\n",
       "      <td>0.682892</td>\n",
       "    </tr>\n",
       "    <tr>\n",
       "      <th>crime</th>\n",
       "      <td>1.298366</td>\n",
       "      <td>1.132590</td>\n",
       "      <td>0.675549</td>\n",
       "      <td>2.454144</td>\n",
       "      <td>2.358084</td>\n",
       "      <td>2.080334</td>\n",
       "      <td>0.682892</td>\n",
       "      <td>1.000000</td>\n",
       "    </tr>\n",
       "  </tbody>\n",
       "</table>\n",
       "</div>"
      ],
      "text/plain": [
       "           fetterman        oz    health  abortion       gun  security  \\\n",
       "fetterman   1.000000  1.635434  1.124313  0.949865  1.347297  1.374180   \n",
       "oz          1.635434  1.000000  1.202557  1.059634  0.714496  1.166127   \n",
       "health      1.124313  1.202557  1.000000  9.225470  1.187192  1.955067   \n",
       "abortion    0.949865  1.059634  9.225470  1.000000  1.725138  6.392151   \n",
       "gun         1.347297  0.714496  1.187192  1.725138  1.000000  0.487456   \n",
       "security    1.374180  1.166127  1.955067  6.392151  0.487456  1.000000   \n",
       "fraud       1.809057  2.689902  1.871835  0.777146  0.533376  2.635090   \n",
       "crime       1.298366  1.132590  0.675549  2.454144  2.358084  2.080334   \n",
       "\n",
       "              fraud     crime  \n",
       "fetterman  1.809057  1.298366  \n",
       "oz         2.689902  1.132590  \n",
       "health     1.871835  0.675549  \n",
       "abortion   0.777146  2.454144  \n",
       "gun        0.533376  2.358084  \n",
       "security   2.635090  2.080334  \n",
       "fraud      1.000000  0.682892  \n",
       "crime      0.682892  1.000000  "
      ]
     },
     "execution_count": 41,
     "metadata": {},
     "output_type": "execute_result"
    }
   ],
   "source": [
    "for i in range(0, len(issues_lift_values)):\n",
    "    issues_lift_values.iloc[i,i] = 1\n",
    "issues_lift_values"
   ]
  },
  {
   "cell_type": "code",
   "execution_count": 42,
   "id": "b4f9ce91",
   "metadata": {},
   "outputs": [
    {
     "name": "stdout",
     "output_type": "stream",
     "text": [
      "           fetterman        oz    health  abortion       gun  security  \\\n",
      "fetterman   1.000000  0.611458  0.889432  1.052781  0.742227  0.727707   \n",
      "oz          0.611458  1.000000  0.831561  0.943722  1.399587  0.857540   \n",
      "health      0.889432  0.831561  1.000000  1.000000  1.000000  1.000000   \n",
      "abortion    1.052781  0.943722  1.000000  1.000000  1.000000  1.000000   \n",
      "gun         0.742227  1.399587  1.000000  1.000000  1.000000  1.000000   \n",
      "security    0.727707  0.857540  1.000000  1.000000  1.000000  1.000000   \n",
      "fraud       0.552774  0.371761  1.000000  1.000000  1.000000  1.000000   \n",
      "crime       0.770199  0.882932  1.000000  1.000000  1.000000  1.000000   \n",
      "\n",
      "              fraud     crime  \n",
      "fetterman  0.552774  0.770199  \n",
      "oz         0.371761  0.882932  \n",
      "health     1.000000  1.000000  \n",
      "abortion   1.000000  1.000000  \n",
      "gun        1.000000  1.000000  \n",
      "security   1.000000  1.000000  \n",
      "fraud      1.000000  1.000000  \n",
      "crime      1.000000  1.000000  \n"
     ]
    },
    {
     "data": {
      "image/png": "[encoded data removed]",
      "text/plain": [
       "<Figure size 800x550 with 1 Axes>"
      ]
     },
     "metadata": {},
     "output_type": "display_data"
    }
   ],
   "source": [
    "issues_lift_values_v2 = issues_lift_values.copy()\n",
    "for i in range(0, len(issues_lift_values_v2)):\n",
    "    for j in range(0, len(issues_lift_values_v2)):\n",
    "            if i >= 2 and j >= 2:\n",
    "                issues_lift_values_v2.iloc[i,j] = 1\n",
    "\n",
    "\n",
    "diff_mat = 1/issues_lift_values_v2.iloc[:,:]\n",
    "diff_mat\n",
    "# for i in range(0, len(diff_mat.columns)):\n",
    "#     diff_mat.iloc[i, i] =0\n",
    "print(diff_mat)\n",
    "\n",
    "mds_model = MDS(n_components = 2, random_state = 0, dissimilarity = 'precomputed')\n",
    "mds_fit = mds_model.fit(diff_mat)  \n",
    "mds_coords = mds_model.fit_transform(diff_mat)   \n",
    "\n",
    "plt.rcParams[\"figure.figsize\"] = (8,5.5)\n",
    "plt.figure()\n",
    "plt.scatter(mds_coords[:,0],mds_coords[:,1],\n",
    "    facecolors = 'cyan', edgecolors = 'blue')\n",
    "labels = diff_mat.columns\n",
    "for label, x, y in zip(labels, mds_coords[:,0], mds_coords[:,1]):\n",
    "    plt.annotate(label, (x,y), xycoords = 'data')\n",
    "plt.xlabel('First Dimension')\n",
    "plt.ylabel('Second Dimension')\n",
    "plt.title('MDS plotting')    \n",
    "plt.show()"
   ]
  },
  {
   "cell_type": "code",
   "execution_count": 43,
   "id": "cb481d5f",
   "metadata": {},
   "outputs": [],
   "source": [
    "from nltk.sentiment.vader import SentimentIntensityAnalyzer\n",
    "from nltk.corpus import stopwords\n",
    "stop_words = set(stopwords.words('english'))"
   ]
  },
  {
   "cell_type": "code",
   "execution_count": 44,
   "id": "420e0c96",
   "metadata": {},
   "outputs": [],
   "source": [
    "def get_sentiment_score(candidate, issue, stop_words):\n",
    "    relevant_comments = []\n",
    "    for comment in comments:\n",
    "        n_a_tmp = 0\n",
    "        n_b_tmp = 0\n",
    "        word_set = [re.sub(r'[^\\w]', ' ', word).strip().lower() for word in comment.split()]\n",
    "        final_word_set = word_set.copy()\n",
    "        final_word_set = [[re.sub(r'[^\\w]', ' ', w).strip().lower()\n",
    "                                        for w in word.split()] for word in word_set if \" \" in word]\n",
    "        final_word_set = list(set(list(itertools.chain.from_iterable(final_word_set))))\n",
    "        final_word_set = list(set(word_set + final_word_set))\n",
    "        if candidate in candidate_name_map.keys():\n",
    "            if set(final_word_set).intersection(set([candidate] + candidate_name_map[candidate])):\n",
    "                n_a_tmp+=1\n",
    "        if set(final_word_set).intersection(set([candidate])):\n",
    "            n_a_tmp+=1\n",
    "        if sum([1 for w in final_word_set if candidate in w]):\n",
    "            n_a_tmp+=1\n",
    "        if set(final_word_set).intersection(set([issue])):\n",
    "            n_b_tmp+=1\n",
    "        if sum([1 for w in final_word_set if issue in w]):\n",
    "            n_b_tmp+=1  \n",
    "        if n_a_tmp >0 and n_b_tmp > 0:\n",
    "            relevant_comments.append(comment)\n",
    "            \n",
    "            \n",
    "    word_pair= []\n",
    "    scores = []\n",
    "    for line in relevant_comments:\n",
    "        line_list = [re.sub(r'[^@\\w]', ' ', word).strip().lower() for word in line.split()]\n",
    "        new_line = []\n",
    "        for word in line_list:\n",
    "            if word in stop_words:\n",
    "                continue\n",
    "            new_line.append(word)\n",
    "        try:\n",
    "            idx = new_line.index(issue)\n",
    "        except Exception as e:\n",
    "            type(e)\n",
    "            idx = [i for i in range(0, len(new_line)) if issue in new_line[i]][0]\n",
    "        if idx + 2 < len(new_line) and idx - 2 >= 0:\n",
    "            word_pair.append((new_line[idx-2] + \" \" + new_line[idx-1] + \" \" + new_line[idx] + \" \" +  new_line[idx+1] + \" \" +new_line[idx+2]))\n",
    "        elif idx + 1 < len(new_line) and idx - 2 >= 0:\n",
    "            word_pair.append((new_line[idx-2] + \" \" + new_line[idx-1] + \" \" + new_line[idx] + \" \" +  new_line[idx+1]))\n",
    "        elif idx + 2 < len(new_line) and idx - 1 >= 0:\n",
    "            word_pair.append((new_line[idx-1] + \" \" + new_line[idx] + \" \" + new_line[idx+1] + \" \" + new_line[idx+2]))           \n",
    "        elif idx-2 >=0 and idx + 1  == len(new_line):\n",
    "            word_pair.append((new_line[idx - 2] + \" \"+ new_line[idx - 1] + \" \" + new_line[idx] ))\n",
    "        elif idx-1 >=0 and idx + 1  == len(new_line):\n",
    "            word_pair.append((new_line[idx - 1] + \" \" + new_line[idx] ))\n",
    "        elif idx == 0 and idx+2 < len(new_line):\n",
    "            word_pair.append(( new_line[idx] + \" \" + new_line[idx + 1] + \" \" + new_line[idx + 2]))\n",
    "        elif idx == 0 and idx+1 < len(new_line):\n",
    "             word_pair.append(( new_line[idx] + \" \" + new_line[idx + 1]))\n",
    "            \n",
    "\n",
    "    new_words = {'health' : 0,\n",
    "                 'abortion' : 0,\n",
    "                 'gun' : 0, \n",
    "                 'security' : 0,\n",
    "                 'fraud': 0,\n",
    "                 'crime' : 0, \n",
    "                 'puppies' : 0,\n",
    "                 'dog':0,\n",
    "                 'black':0\n",
    "        \n",
    "    }\n",
    "    analyzer = SentimentIntensityAnalyzer()\n",
    "    analyzer.lexicon.update(new_words)\n",
    "    for sentence in word_pair:\n",
    "        score =  analyzer.polarity_scores(sentence)\n",
    "        scores.append(score['compound'])\n",
    "    return sum(scores) / len(scores)"
   ]
  },
  {
   "cell_type": "code",
   "execution_count": 47,
   "id": "34a14b85",
   "metadata": {
    "scrolled": true
   },
   "outputs": [
    {
     "name": "stdout",
     "output_type": "stream",
     "text": [
      "CPU times: total: 7.75 s\n",
      "Wall time: 8.28 s\n"
     ]
    }
   ],
   "source": [
    "%%time\n",
    "sentiment_dict = {}\n",
    "issues = ['health', 'abortion', 'gun', 'security', 'fraud', 'crime']\n",
    "candidates = ['fetterman', 'oz']\n",
    "for candidate in candidates:\n",
    "    for issue in issues:\n",
    "        if issues_lift_values.loc[candidate, issue] > 1:\n",
    "            sentiment_dict[issue+ '_' + candidate] = get_sentiment_score(candidate, issue, stop_words)"
   ]
  },
  {
   "cell_type": "code",
   "execution_count": 48,
   "id": "8b42661d",
   "metadata": {},
   "outputs": [
    {
     "data": {
      "text/html": [
       "<div>\n",
       "<style scoped>\n",
       "    .dataframe tbody tr th:only-of-type {\n",
       "        vertical-align: middle;\n",
       "    }\n",
       "\n",
       "    .dataframe tbody tr th {\n",
       "        vertical-align: top;\n",
       "    }\n",
       "\n",
       "    .dataframe thead th {\n",
       "        text-align: right;\n",
       "    }\n",
       "</style>\n",
       "<table border=\"1\" class=\"dataframe\">\n",
       "  <thead>\n",
       "    <tr style=\"text-align: right;\">\n",
       "      <th></th>\n",
       "      <th>issue</th>\n",
       "      <th>lift</th>\n",
       "      <th>sentiment</th>\n",
       "    </tr>\n",
       "  </thead>\n",
       "  <tbody>\n",
       "    <tr>\n",
       "      <th>0</th>\n",
       "      <td>health</td>\n",
       "      <td>1.124313</td>\n",
       "      <td>0.095988</td>\n",
       "    </tr>\n",
       "    <tr>\n",
       "      <th>0</th>\n",
       "      <td>gun</td>\n",
       "      <td>1.347297</td>\n",
       "      <td>-0.005505</td>\n",
       "    </tr>\n",
       "    <tr>\n",
       "      <th>0</th>\n",
       "      <td>security</td>\n",
       "      <td>1.374180</td>\n",
       "      <td>-0.054848</td>\n",
       "    </tr>\n",
       "    <tr>\n",
       "      <th>0</th>\n",
       "      <td>fraud</td>\n",
       "      <td>1.809057</td>\n",
       "      <td>-0.053897</td>\n",
       "    </tr>\n",
       "    <tr>\n",
       "      <th>0</th>\n",
       "      <td>crime</td>\n",
       "      <td>1.298366</td>\n",
       "      <td>-0.080703</td>\n",
       "    </tr>\n",
       "  </tbody>\n",
       "</table>\n",
       "</div>"
      ],
      "text/plain": [
       "      issue      lift  sentiment\n",
       "0    health  1.124313   0.095988\n",
       "0       gun  1.347297  -0.005505\n",
       "0  security  1.374180  -0.054848\n",
       "0     fraud  1.809057  -0.053897\n",
       "0     crime  1.298366  -0.080703"
      ]
     },
     "execution_count": 48,
     "metadata": {},
     "output_type": "execute_result"
    }
   ],
   "source": [
    "candidate = 'fetterman'\n",
    "f_keys = [key for key in sentiment_dict.keys() if candidate in key]\n",
    "fetterman_df = pd.DataFrame(columns=['issue', 'lift', 'sentiment'])\n",
    "for key in f_keys:\n",
    "    values = [key.split('_')[0], issues_lift_values.loc[candidate,key.split('_')[0]], sentiment_dict[key]]\n",
    "    fetterman_df = pd.concat([fetterman_df, pd.DataFrame([values], columns=['issue', 'lift', 'sentiment'])], axis=0)\n",
    "fetterman_df"
   ]
  },
  {
   "cell_type": "code",
   "execution_count": 49,
   "id": "be330d75",
   "metadata": {},
   "outputs": [
    {
     "data": {
      "text/html": [
       "<div>\n",
       "<style scoped>\n",
       "    .dataframe tbody tr th:only-of-type {\n",
       "        vertical-align: middle;\n",
       "    }\n",
       "\n",
       "    .dataframe tbody tr th {\n",
       "        vertical-align: top;\n",
       "    }\n",
       "\n",
       "    .dataframe thead th {\n",
       "        text-align: right;\n",
       "    }\n",
       "</style>\n",
       "<table border=\"1\" class=\"dataframe\">\n",
       "  <thead>\n",
       "    <tr style=\"text-align: right;\">\n",
       "      <th></th>\n",
       "      <th>issue</th>\n",
       "      <th>lift</th>\n",
       "      <th>sentiment</th>\n",
       "    </tr>\n",
       "  </thead>\n",
       "  <tbody>\n",
       "    <tr>\n",
       "      <th>0</th>\n",
       "      <td>health</td>\n",
       "      <td>1.202557</td>\n",
       "      <td>0.070617</td>\n",
       "    </tr>\n",
       "    <tr>\n",
       "      <th>0</th>\n",
       "      <td>abortion</td>\n",
       "      <td>1.059634</td>\n",
       "      <td>-0.176089</td>\n",
       "    </tr>\n",
       "    <tr>\n",
       "      <th>0</th>\n",
       "      <td>security</td>\n",
       "      <td>1.166127</td>\n",
       "      <td>-0.003284</td>\n",
       "    </tr>\n",
       "    <tr>\n",
       "      <th>0</th>\n",
       "      <td>fraud</td>\n",
       "      <td>2.689902</td>\n",
       "      <td>-0.088438</td>\n",
       "    </tr>\n",
       "    <tr>\n",
       "      <th>0</th>\n",
       "      <td>crime</td>\n",
       "      <td>1.132590</td>\n",
       "      <td>-0.048439</td>\n",
       "    </tr>\n",
       "  </tbody>\n",
       "</table>\n",
       "</div>"
      ],
      "text/plain": [
       "      issue      lift  sentiment\n",
       "0    health  1.202557   0.070617\n",
       "0  abortion  1.059634  -0.176089\n",
       "0  security  1.166127  -0.003284\n",
       "0     fraud  2.689902  -0.088438\n",
       "0     crime  1.132590  -0.048439"
      ]
     },
     "execution_count": 49,
     "metadata": {},
     "output_type": "execute_result"
    }
   ],
   "source": [
    "candidate = 'oz'\n",
    "f_keys = [key for key in sentiment_dict.keys() if candidate in key]\n",
    "oz_df = pd.DataFrame(columns=['issue', 'lift', 'sentiment'])\n",
    "for key in f_keys:\n",
    "    values = [key.split('_')[0], issues_lift_values.loc[candidate,key.split('_')[0]], sentiment_dict[key]]\n",
    "    oz_df = pd.concat([oz_df, pd.DataFrame([values], columns=['issue', 'lift', 'sentiment'])], axis=0)\n",
    "oz_df"
   ]
  },
  {
   "cell_type": "markdown",
   "id": "b160fa4a",
   "metadata": {},
   "source": [
    "## Location Analysis"
   ]
  },
  {
   "cell_type": "code",
   "execution_count": 50,
   "id": "7f85b16f",
   "metadata": {},
   "outputs": [
    {
     "data": {
      "text/plain": [
       "array(['Philadelphia', 'Oregon', 'Harrisburg', 'Cleveland', 'Pittsburgh',\n",
       "       'Ohio', 'Berlin'], dtype=object)"
      ]
     },
     "execution_count": 50,
     "metadata": {},
     "output_type": "execute_result"
    }
   ],
   "source": [
    "data=pd.read_csv('twitter_scrapped_final.csv').drop_duplicates(subset=['text'])\n",
    "pa_cities = pd.read_csv('new_location_counts.csv')\n",
    "pa_cities['location'].values[:7]"
   ]
  },
  {
   "cell_type": "code",
   "execution_count": 51,
   "id": "ab68c73d",
   "metadata": {},
   "outputs": [],
   "source": [
    "data1=data[data['location'].isin(pa_cities['location'].values)]"
   ]
  },
  {
   "cell_type": "code",
   "execution_count": 52,
   "id": "072731a3",
   "metadata": {},
   "outputs": [
    {
     "name": "stderr",
     "output_type": "stream",
     "text": [
      "C:\\Users\\shiva\\AppData\\Local\\Temp\\ipykernel_17068\\1554734490.py:3: SettingWithCopyWarning: \n",
      "A value is trying to be set on a copy of a slice from a DataFrame.\n",
      "Try using .loc[row_indexer,col_indexer] = value instead\n",
      "\n",
      "See the caveats in the documentation: https://pandas.pydata.org/pandas-docs/stable/user_guide/indexing.html#returning-a-view-versus-a-copy\n",
      "  data1['location1'] = data1['location'].apply(lambda i: 'big_city' if i in top5_cities else 'small_city')\n"
     ]
    }
   ],
   "source": [
    "top5_cities = ['Philadelphia','Pittsburgh','Allentown','Reading city','Erie','Philadelphia, PA','Pittsburgh, PA','Allentown, PA',\n",
    "             'Philadelphia, PA, US','Erie, PA','Reading city, PA','Philadelphia, Pa.','PHILLY, PA','Erie, Pa.']\n",
    "data1['location1'] = data1['location'].apply(lambda i: 'big_city' if i in top5_cities else 'small_city')\n",
    "location_tweet=data1['location1'] + \" \" + data1['text']"
   ]
  },
  {
   "cell_type": "code",
   "execution_count": 54,
   "id": "fe8a2f4d",
   "metadata": {
    "scrolled": true
   },
   "outputs": [
    {
     "name": "stdout",
     "output_type": "stream",
     "text": [
      "CPU times: total: 453 ms\n",
      "Wall time: 521 ms\n"
     ]
    },
    {
     "data": {
      "text/html": [
       "<div>\n",
       "<style scoped>\n",
       "    .dataframe tbody tr th:only-of-type {\n",
       "        vertical-align: middle;\n",
       "    }\n",
       "\n",
       "    .dataframe tbody tr th {\n",
       "        vertical-align: top;\n",
       "    }\n",
       "\n",
       "    .dataframe thead th {\n",
       "        text-align: right;\n",
       "    }\n",
       "</style>\n",
       "<table border=\"1\" class=\"dataframe\">\n",
       "  <thead>\n",
       "    <tr style=\"text-align: right;\">\n",
       "      <th></th>\n",
       "      <th>big_city</th>\n",
       "      <th>small_city</th>\n",
       "    </tr>\n",
       "  </thead>\n",
       "  <tbody>\n",
       "    <tr>\n",
       "      <th>fetterman</th>\n",
       "      <td>2.050120</td>\n",
       "      <td>0.701805</td>\n",
       "    </tr>\n",
       "    <tr>\n",
       "      <th>oz</th>\n",
       "      <td>1.951891</td>\n",
       "      <td>0.729698</td>\n",
       "    </tr>\n",
       "  </tbody>\n",
       "</table>\n",
       "</div>"
      ],
      "text/plain": [
       "           big_city  small_city\n",
       "fetterman  2.050120    0.701805\n",
       "oz         1.951891    0.729698"
      ]
     },
     "execution_count": 54,
     "metadata": {},
     "output_type": "execute_result"
    }
   ],
   "source": [
    "%%time\n",
    "city_lift_values = []\n",
    "candidates_list = [\"fetterman\", \"oz\",]\n",
    "cities = [\"big_city\", \"small_city\"]\n",
    "# \"Fetterman\", \"Oz\", \n",
    "co_mentions_dict = {}\n",
    "issues_lift_values = []\n",
    "for cand in candidates_list:\n",
    "    lift_value_tmp = []\n",
    "    for city in cities:\n",
    "        lift = get_lift_value(a_brand=cand, b_brand=city, comments=location_tweet, candidate_name_map=candidate_name_map)\n",
    "        lift_value_tmp.append(lift)\n",
    "    city_lift_values.append(lift_value_tmp)\n",
    "city_lift_values = pd.DataFrame(city_lift_values, columns=cities, index=candidates_list)\n",
    "city_lift_values"
   ]
  },
  {
   "cell_type": "markdown",
   "id": "02542275",
   "metadata": {},
   "source": [
    "## Location Sentiment Analysis"
   ]
  },
  {
   "cell_type": "code",
   "execution_count": 59,
   "id": "4d3b2730",
   "metadata": {},
   "outputs": [
    {
     "name": "stderr",
     "output_type": "stream",
     "text": [
      "[nltk_data] Downloading package vader_lexicon to\n",
      "[nltk_data]     C:\\Users\\shiva\\AppData\\Roaming\\nltk_data...\n",
      "[nltk_data]   Package vader_lexicon is already up-to-date!\n"
     ]
    }
   ],
   "source": [
    "import nltk\n",
    "nltk.download('vader_lexicon')\n",
    "from nltk.sentiment.vader import SentimentIntensityAnalyzer\n",
    "import numpy as np\n",
    "import pandas as pd\n",
    "import re\n",
    "import string"
   ]
  },
  {
   "cell_type": "code",
   "execution_count": 60,
   "id": "444dcafc",
   "metadata": {},
   "outputs": [],
   "source": [
    "location_tweets_df = pd.DataFrame(location_tweet, columns=['tweets'])"
   ]
  },
  {
   "cell_type": "code",
   "execution_count": 72,
   "id": "982d3a80",
   "metadata": {},
   "outputs": [],
   "source": [
    "small_city_comments = location_tweets_df[location_tweets_df['tweets'].str.contains(\"small_city\")]['tweets']\n",
    "big_city_comments = location_tweets_df[location_tweets_df['tweets'].str.contains(\"big_city\")]['tweets']"
   ]
  },
  {
   "cell_type": "code",
   "execution_count": 73,
   "id": "0f3c504d",
   "metadata": {},
   "outputs": [],
   "source": [
    "from nltk.sentiment.vader import SentimentIntensityAnalyzer\n",
    "import nltk\n",
    "import itertools\n",
    "from nltk.corpus import stopwords\n",
    "from nltk.tokenize import word_tokenize\n",
    "stop_words = list(set(stopwords.words('english')))\n",
    "words = set(nltk.corpus.words.words())\n",
    "\n",
    "def sentiment_on_comments(comments, candidate): \n",
    "    relevant_comments = []\n",
    "    for comment in comments:\n",
    "        n_a_tmp = 0\n",
    "        word_set = [re.sub(r'[^\\w]', ' ', word).strip().lower() for word in comment.split()]\n",
    "        final_word_set = word_set.copy()\n",
    "        final_word_set = [[re.sub(r'[^\\w]', ' ', w).strip().lower()\n",
    "                                        for w in word.split()] for word in word_set if \" \" in word]\n",
    "        final_word_set = list(set(list(itertools.chain.from_iterable(final_word_set))))\n",
    "        final_word_set = list(set(word_set + final_word_set))\n",
    "        if candidate in candidate_name_map.keys():\n",
    "            if set(final_word_set).intersection(set([candidate] + candidate_name_map[candidate])):\n",
    "                n_a_tmp+=1\n",
    "        if set(final_word_set).intersection(set([candidate])):\n",
    "            n_a_tmp+=1\n",
    "        if sum([1 for w in final_word_set if candidate in w]):\n",
    "            n_a_tmp+=1\n",
    "        if n_a_tmp >0:\n",
    "            relevant_comments.append(comment)\n",
    "    print(\"len of comments\", len(relevant_comments))\n",
    "    word_pair= []\n",
    "    scores = []\n",
    "    for line in relevant_comments:\n",
    "        line_list = [re.sub(r'[^@\\w]', ' ', word).strip().lower() for word in line.split()]\n",
    "        new_line = []\n",
    "        for word in line_list:\n",
    "            if word in stop_words or (word not in candidate_name_map and word not in words):\n",
    "                continue\n",
    "            new_line.append(word)\n",
    "            \n",
    "        idx = [i for i in range(0, len(new_line)) if candidate in new_line[i]]\n",
    "\n",
    "        for i in idx:\n",
    "            l = i\n",
    "            r = i\n",
    "            l_cnt = 0\n",
    "            r_cnt = 0\n",
    "            \n",
    "            pair = []\n",
    "            \n",
    "            while(l >= 0):\n",
    "                if(l_cnt == 2) :break\n",
    "                if(new_line[l] != candidate and candidate not in new_line[l] and new_line[l] not in candidate_name_map[candidate]):\n",
    "                    pair.insert(0, new_line[l])\n",
    "                    l_cnt += 1\n",
    "                l -= 1\n",
    "            \n",
    "            pair.append(candidate)\n",
    "            \n",
    "            while(r < len(new_line)):\n",
    "                if(r_cnt == 2) : break\n",
    "                if(new_line[r] != candidate and candidate not in new_line[r] and new_line[r] not in candidate_name_map[candidate]):\n",
    "                    pair.append(new_line[r])\n",
    "                    r_cnt += 1\n",
    "                r += 1\n",
    "            \n",
    "            if len(pair) != 0:\n",
    "                sen =\" \".join([str(i) for i in pair])\n",
    "                word_pair.append(sen)\n",
    "            \n",
    "\n",
    "    new_words = {'big_city':0,\n",
    "                 'small_city':0 \n",
    "    }\n",
    "    \n",
    "    analyzer = SentimentIntensityAnalyzer()\n",
    "    analyzer.lexicon.update(new_words)\n",
    "    for sentence in word_pair:\n",
    "        score =  analyzer.polarity_scores(sentence)\n",
    "        scores.append(score['compound'])\n",
    "    return sum(scores) / len(scores)"
   ]
  },
  {
   "cell_type": "code",
   "execution_count": 74,
   "id": "ae895f99",
   "metadata": {},
   "outputs": [
    {
     "name": "stdout",
     "output_type": "stream",
     "text": [
      "len of comments 393\n",
      "len of comments 287\n"
     ]
    }
   ],
   "source": [
    "candidate_list = [\"fetterman\", \"oz\"] \n",
    "small_city_scores = {}\n",
    "for candidate in candidate_list:\n",
    "    small_city_scores[candidate] = sentiment_on_comments(small_city_comments, candidate)"
   ]
  },
  {
   "cell_type": "code",
   "execution_count": 75,
   "id": "6f944f7e",
   "metadata": {},
   "outputs": [
    {
     "data": {
      "text/plain": [
       "{'fetterman': 0.0700847457627119, 'oz': 0.018840594059405937}"
      ]
     },
     "execution_count": 75,
     "metadata": {},
     "output_type": "execute_result"
    }
   ],
   "source": [
    "small_city_scores"
   ]
  },
  {
   "cell_type": "code",
   "execution_count": 76,
   "id": "72de3351",
   "metadata": {},
   "outputs": [
    {
     "name": "stdout",
     "output_type": "stream",
     "text": [
      "len of comments 326\n",
      "len of comments 218\n"
     ]
    },
    {
     "data": {
      "text/plain": [
       "{'fetterman': 0.056316923076923084, 'oz': 0.014393055555555555}"
      ]
     },
     "execution_count": 76,
     "metadata": {},
     "output_type": "execute_result"
    }
   ],
   "source": [
    "candidate_list = [\"fetterman\", \"oz\"] \n",
    "big_city_scores = {}\n",
    "for candidate in candidate_list:\n",
    "    big_city_scores[candidate] = sentiment_on_comments(big_city_comments, candidate)\n",
    "big_city_scores"
   ]
  }
 ],
 "metadata": {
  "kernelspec": {
   "display_name": "Python 3 (ipykernel)",
   "language": "python",
   "name": "python3"
  },
  "language_info": {
   "codemirror_mode": {
    "name": "ipython",
    "version": 3
   },
   "file_extension": ".py",
   "mimetype": "text/x-python",
   "name": "python",
   "nbconvert_exporter": "python",
   "pygments_lexer": "ipython3",
   "version": "3.10.5"
  },
  "vscode": {
   "interpreter": {
    "hash": "aee8b7b246df8f9039afb4144a1f6fd8d2ca17a180786b69acc140d282b71a49"
   }
  }
 },
 "nbformat": 4,
 "nbformat_minor": 5
}
